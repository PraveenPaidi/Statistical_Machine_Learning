{
 "cells": [
  {
   "cell_type": "code",
   "execution_count": 33,
   "id": "d5758915",
   "metadata": {},
   "outputs": [
    {
     "name": "stdout",
     "output_type": "stream",
     "text": [
      "This had the largest Lasso Coefficient\n",
      "PctIlleg\n",
      "This had the Smallest Lasso Coefficient\n",
      "PctKids2Par\n"
     ]
    }
   ],
   "source": [
    "import numpy as np\n",
    "import pandas as pd\n",
    "import matplotlib.pyplot as plt\n",
    "df_train = pd.read_table(\"crime-train.txt\")\n",
    "df_test = pd.read_table(\"crime-test.txt\")\n",
    "n=1595\n",
    "d=96\n",
    "y=np.zeros(n)\n",
    "X=df_train.drop('ViolentCrimesPerPop',axis=1).values\n",
    "y=df_train['ViolentCrimesPerPop'].values\n",
    "W=np.zeros(d-1)\n",
    "count1=[]\n",
    "lambda1=[]\n",
    "sum=0;\n",
    "\n",
    "for i in range(1595):\n",
    "    sum=sum+y[i]\n",
    "sum=sum/1595\n",
    "\n",
    "lambdamax=30\n",
    "ak=np.zeros(d-1)\n",
    "b=0\n",
    "ck=np.zeros(d-1)\n",
    "check=np.zeros(d-1)\n",
    "epsilon=np.zeros(d-1)\n",
    "count=0\n",
    "converged=False\n",
    "\n",
    "#looping for convergence\n",
    "while not converged:\n",
    "    b=np.sum(y-np.dot(X,W.T))\n",
    "    b=b/n\n",
    "    check[:]=W\n",
    "    for k in range(d-1):\n",
    "        Xk=X[:,k]\n",
    "        Xj=np.delete(X,k, axis=1)\n",
    "        Wj=np.delete(W,k,axis=0)\n",
    "        ak=2*np.sum(np.square(Xk))\n",
    "        ck=2*np.sum(np.dot(Xk.T,(y-(b+np.dot(Xj,Wj.T)))))         \n",
    "        if ck<-lambdamax:\n",
    "            W[k]=(ck+lambdamax)/ak\n",
    "        elif ck >= -lambdamax and ck <= lambdamax:\n",
    "            W[k]=0\n",
    "        else:\n",
    "            W[k]=(ck-lambdamax)/ak\n",
    "\n",
    "    epsilon=np.absolute(np.array(W) - np.array(check))\n",
    "    converged=True\n",
    "\n",
    "    for i in range(d-1):\n",
    "        if epsilon[i]>0.001:\n",
    "            converged=False\n",
    "            break \n",
    "\n",
    "\n",
    "#maximum and minimum\n",
    "maxi=np.argmax(W)\n",
    "mini=np.argmin(W)\n",
    "\n",
    "\n",
    "print('This had the largest Lasso Coefficient')\n",
    "print(df_train.iloc[:,maxi+1].name)\n",
    "print('This had the Smallest Lasso Coefficient')\n",
    "print(df_train.iloc[:,mini+1].name)\n",
    "    \n",
    "\n"
   ]
  },
  {
   "cell_type": "code",
   "execution_count": null,
   "id": "71422332",
   "metadata": {},
   "outputs": [],
   "source": []
  }
 ],
 "metadata": {
  "kernelspec": {
   "display_name": "Python 3 (ipykernel)",
   "language": "python",
   "name": "python3"
  },
  "language_info": {
   "codemirror_mode": {
    "name": "ipython",
    "version": 3
   },
   "file_extension": ".py",
   "mimetype": "text/x-python",
   "name": "python",
   "nbconvert_exporter": "python",
   "pygments_lexer": "ipython3",
   "version": "3.9.12"
  }
 },
 "nbformat": 4,
 "nbformat_minor": 5
}
