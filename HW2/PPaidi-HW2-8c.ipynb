{
 "cells": [
  {
   "cell_type": "code",
   "execution_count": 7,
   "id": "68ccfb3a",
   "metadata": {},
   "outputs": [
    {
     "data": {
      "text/plain": [
       "<matplotlib.legend.Legend at 0x20ec4da1a60>"
      ]
     },
     "execution_count": 7,
     "metadata": {},
     "output_type": "execute_result"
    },
    {
     "data": {
      "image/png": "[encoded data removed]",
      "text/plain": [
       "<Figure size 432x288 with 1 Axes>"
      ]
     },
     "metadata": {
      "needs_background": "light"
     },
     "output_type": "display_data"
    }
   ],
   "source": [
    "import numpy as np\n",
    "import pandas as pd\n",
    "import matplotlib.pyplot as plt\n",
    "df_train = pd.read_table(\"crime-train.txt\")\n",
    "df_test = pd.read_table(\"crime-test.txt\")\n",
    "n=1595\n",
    "d=96\n",
    "y=np.zeros(n)\n",
    "X=df_train.drop('ViolentCrimesPerPop',axis=1).values\n",
    "y=df_train['ViolentCrimesPerPop'].values\n",
    "Xtest=df_test.drop('ViolentCrimesPerPop',axis=1).values\n",
    "ytest=df_test['ViolentCrimesPerPop'].values\n",
    "lambdaa=np.zeros(d)\n",
    "W=np.zeros(d-1)\n",
    "count1=[]\n",
    "lambda1=[]\n",
    "converged=True\n",
    "sum=0;\n",
    "trainerror=[]\n",
    "testerror=[]\n",
    "\n",
    "for i in range(1595):\n",
    "    sum=sum+y[i]\n",
    "sum=sum/1595\n",
    "\n",
    "#calculating the lambdamax\n",
    "for k in range(95):\n",
    "    lam=0\n",
    "    for i in range(1595):\n",
    "        lam=2*df_train.iloc[i][k+1]*(y[i]-sum)+lam\n",
    "    lambdaa[k]=np.linalg.norm(lam)\n",
    "lambdamax=np.max(lambdaa)\n",
    "\n",
    "#Looping over all the lambdas\n",
    "while lambdamax>0.01:\n",
    "    ak=np.zeros(d-1)\n",
    "    b=np.zeros(n)\n",
    "    ck=np.zeros(d-1)\n",
    "    check=np.zeros(d-1)\n",
    "    epsilon=np.zeros(d-1)\n",
    "    converged=False    \n",
    "    \n",
    "    # convergence loop \n",
    "    while not converged:\n",
    "        b=np.sum(y-np.dot(X,W.T))\n",
    "        b=b/n\n",
    "        check[:]=W\n",
    "        \n",
    "        #Lopping over all columns\n",
    "        for k in range(d-1):\n",
    "            Xk=X[:,k]\n",
    "            Xj=np.delete(X,k, axis=1)\n",
    "            Wj=np.delete(W,k,axis=0)\n",
    "            ak=2*np.sum(np.square(Xk))\n",
    "            ck=2*np.sum(np.dot(Xk.T,(y-(b+np.dot(Xj,Wj.T)))))         \n",
    "            if ck<-lambdamax:\n",
    "                W[k]=(ck+lambdamax)/ak\n",
    "            elif ck >= -lambdamax and ck <= lambdamax:\n",
    "                W[k]=0\n",
    "            else:\n",
    "                W[k]=(ck-lambdamax)/ak\n",
    "                \n",
    "        #checking the convergence rule       \n",
    "        epsilon=np.absolute(np.array(W) - np.array(check))\n",
    "        converged=True\n",
    "        \n",
    "        for i in range(d-1):\n",
    "            if epsilon[i]>0.01:\n",
    "                converged=False\n",
    "                break  \n",
    "        \n",
    "    #collecting training and test error  \n",
    "    tr_error=np.sum((y-np.dot(X,W))**2)/1595             # dividing by number of train_samples\n",
    "    te_error=np.sum((ytest-np.dot(Xtest,W))**2)/399      # dividing by number of test_samples\n",
    "    lambda1.append(lambdamax)\n",
    "    lambdamax=lambdamax/2\n",
    "    trainerror.append(tr_error)\n",
    "    testerror.append(te_error)\n",
    "\n",
    "    \n",
    "plt.semilogx(lambda1,trainerror,label='trainerror') \n",
    "plt.semilogx(lambda1,testerror,label='testerror')\n",
    "plt.xlabel('Lambdavalues')\n",
    "plt.ylabel('Squared Error of test and train data')\n",
    "plt.title(\"Plot of lambda vs Error\")\n",
    "plt.legend()\n"
   ]
  }
 ],
 "metadata": {
  "kernelspec": {
   "display_name": "Python 3 (ipykernel)",
   "language": "python",
   "name": "python3"
  },
  "language_info": {
   "codemirror_mode": {
    "name": "ipython",
    "version": 3
   },
   "file_extension": ".py",
   "mimetype": "text/x-python",
   "name": "python",
   "nbconvert_exporter": "python",
   "pygments_lexer": "ipython3",
   "version": "3.9.12"
  }
 },
 "nbformat": 4,
 "nbformat_minor": 5
}
