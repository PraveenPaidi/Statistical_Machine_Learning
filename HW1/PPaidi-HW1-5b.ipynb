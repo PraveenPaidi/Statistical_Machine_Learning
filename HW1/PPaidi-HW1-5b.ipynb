{
 "cells": [
  {
   "cell_type": "code",
   "execution_count": 5,
   "id": "3b5c89f2",
   "metadata": {},
   "outputs": [
    {
     "name": "stdout",
     "output_type": "stream",
     "text": [
      "train error is  14.805 percentage\n",
      "test error is  14.66 percentage\n"
     ]
    }
   ],
   "source": [
    "from mnist import MNIST\n",
    "import numpy as np\n",
    "from matplotlib import pyplot as plt\n",
    "I=np.identity(784)\n",
    "lamb=0.0001\n",
    "k=10\n",
    "mndata=MNIST(r'C:\\Users\\praveen')\n",
    "X_train, labels_train = map(np.array, mndata.load_training())\n",
    "X_test, labels_test = map(np.array, mndata.load_testing())\n",
    "X_train = X_train/255.0\n",
    "X_test = X_test/255.0\n",
    "\n",
    "#hot encoding Y \n",
    "k1= np.array(labels_train).reshape(-1)\n",
    "Y= np.eye(k)[k1]\n",
    "\n",
    "# train function\n",
    "def train(X_train,Y):\n",
    "    a=np.linalg.solve(((np.dot(X_train.T,X_train)+np.dot(lamb,I))),I)\n",
    "    w_cap=np.dot(a,np.dot(X_train.T,Y))\n",
    "    return w_cap\n",
    "\n",
    "#predict function\n",
    "def predict(w_cap,X_train):\n",
    "    p=[]\n",
    "    predict=np.dot(X_train,w_cap)\n",
    "    (a,b)=np.shape(X_train)\n",
    "    for i in range(a):\n",
    "        p.append(np.argmax(predict[i]))\n",
    "    return p\n",
    "\n",
    "#error function\n",
    "def error(p,X_train,labels_train):\n",
    "    sum=0\n",
    "    (a,b)=np.shape(X_train)\n",
    "    for i in range(a):\n",
    "        if p[i]!=labels_train[i]:\n",
    "            sum=sum+1\n",
    "    return (sum,a)\n",
    "\n",
    "#error_percentage function\n",
    "def error_percentage(train_error,a):      \n",
    "    e=((100*train_error/a))\n",
    "    return e\n",
    "    \n",
    "\n",
    "#error percentage of training data\n",
    "w_cap=train(X_train,Y)     # use same w_cap for test and training \n",
    "p=predict(w_cap,X_train)\n",
    "(train_error,a)=error(p,X_train,labels_train)\n",
    "e1=error_percentage(train_error,a)\n",
    "print('train error is ',e1,'percentage')\n",
    "\n",
    "\n",
    "\n",
    "#error percentage of test data\n",
    "p=predict(w_cap,X_test)\n",
    "(test_error,a)=error(p,X_test,labels_test)\n",
    "e2=error_percentage(test_error,a)\n",
    "print('test error is ',e2,'percentage')\n",
    "\n",
    "\n",
    "\n",
    "\n",
    "\n",
    "\n",
    "\n",
    "\n"
   ]
  },
  {
   "cell_type": "code",
   "execution_count": null,
   "id": "6cba10c2",
   "metadata": {},
   "outputs": [],
   "source": []
  }
 ],
 "metadata": {
  "kernelspec": {
   "display_name": "Python 3 (ipykernel)",
   "language": "python",
   "name": "python3"
  },
  "language_info": {
   "codemirror_mode": {
    "name": "ipython",
    "version": 3
   },
   "file_extension": ".py",
   "mimetype": "text/x-python",
   "name": "python",
   "nbconvert_exporter": "python",
   "pygments_lexer": "ipython3",
   "version": "3.9.12"
  }
 },
 "nbformat": 4,
 "nbformat_minor": 5
}
