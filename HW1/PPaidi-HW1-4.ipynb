{
 "cells": [
  {
   "cell_type": "code",
   "execution_count": 3,
   "id": "57feb60c",
   "metadata": {
    "scrolled": true
   },
   "outputs": [
    {
     "data": {
      "image/png": "[encoded data removed]",
      "text/plain": [
       "<Figure size 432x288 with 1 Axes>"
      ]
     },
     "metadata": {
      "needs_background": "light"
     },
     "output_type": "display_data"
    }
   ],
   "source": [
    "import numpy as np\n",
    "import matplotlib.pyplot as plt \n",
    "train_n = 100\n",
    "test_n = 1000\n",
    "d = 100\n",
    "test_error=[]\n",
    "train_error=[]\n",
    "lambd = [0.0001, 0.001, 0.01, 0.1, 1, 10, 100]\n",
    "I=np.identity(100)\n",
    "f = []\n",
    "g = []\n",
    "newf=[0,0,0,0,0,0,0]\n",
    "newg=[0,0,0,0,0,0,0]\n",
    "\n",
    "for j in range(30):\n",
    "    X_train = np.random.normal(0,1, size=(100,100))\n",
    "    a_true = np.random.normal(0,1, size=(100,1))\n",
    "    y_train = X_train.dot(a_true) + np.random.normal(0,0.5,size=(100,1))\n",
    "    X_test = np.random.normal(0,1, size=(1000,100))\n",
    "    y_test = X_test.dot(a_true) + np.random.normal(0,0.5,size=(1000,1))\n",
    "    \n",
    "    for i in range(len(lambd)):\n",
    "        \n",
    "        q=np.dot(lambd[i],I)\n",
    "        c=np.linalg.inv(np.dot((X_train.T),(X_train))+q)\n",
    "        d=np.dot(c,X_train.T)\n",
    "        e=np.dot(d,y_train)\n",
    "        \n",
    "        q1=np.dot(lambd[i],I)\n",
    "        c1=np.linalg.inv(np.dot((X_test.T),(X_test))+q1)\n",
    "        d1=np.dot(c1,X_test.T)\n",
    "        e1=np.dot(d1,y_test)\n",
    "        \n",
    "        f.append((np.linalg.norm(np.dot(X_train,e)- y_train))/np.linalg.norm(y_train))\n",
    "        g.append((np.linalg.norm(np.dot(X_test,e)- y_test))/np.linalg.norm(y_test))\n",
    "        \n",
    "        newf[i]=f[i]+newf[i]\n",
    "        newg[i]=g[i]+newg[i]  \n",
    "\n",
    "avgf=[x/30 for x in newf]\n",
    "avgg=[x/30 for x in newg]\n",
    "\n",
    "plt.semilogx(lambd,avgf, color='b',label='Training_error')\n",
    "plt.semilogx(lambd,avgg, color='r',label='Test_error')\n",
    "plt.xlabel('Lambda')\n",
    "plt.ylabel('Error')\n",
    "plt.legend()\n",
    "plt.show()"
   ]
  }
 ],
 "metadata": {
  "kernelspec": {
   "display_name": "Python 3 (ipykernel)",
   "language": "python",
   "name": "python3"
  },
  "language_info": {
   "codemirror_mode": {
    "name": "ipython",
    "version": 3
   },
   "file_extension": ".py",
   "mimetype": "text/x-python",
   "name": "python",
   "nbconvert_exporter": "python",
   "pygments_lexer": "ipython3",
   "version": "3.9.12"
  }
 },
 "nbformat": 4,
 "nbformat_minor": 5
}
